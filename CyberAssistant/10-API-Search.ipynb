{
 "cells": [
  {
   "cell_type": "markdown",
   "id": "66ab3cc5-aee4-415a-9391-1e5d37ccaf1d",
   "metadata": {},
   "source": [
    "# Skill 5: API Search - Make our bot to talk to any API"
   ]
  },
  {
   "cell_type": "markdown",
   "id": "306fc0a9-4044-441d-9ba7-f54f32e6ea9f",
   "metadata": {},
   "source": [
    "We have observed the remarkable synergy created by combining **OpenAI llms with intelligent agents and detailed prompts**. This powerful combination has consistently delivered impressive results. To further capitalize on this capability, we should aim to integrate it with various systems through API communication. Essentially, we can develop within this notebook what is referred to in OpenAI's ChatGPT as 'GPTs.'\n",
    "\n",
    "Envision a bot that seamlessly integrates with:\n",
    "\n",
    "- **CRM Systems:** Including Dynamics, Salesforce, and HubSpot.\n",
    "- **ERP Systems:** Such as SAP, Dynamics, and Oracle.\n",
    "- **CMS Systems:** Including Adobe, Oracle, and other content management platforms.\n",
    "\n",
    "The objective is to connect our bot with data repositories, minimizing data duplication as much as possible. These systems typically offer APIs, facilitating programmatic data access.\n",
    "\n",
    "In this notebook, we plan to develop an agent capable of querying an API to retrieve information and effectively answer questions.\n",
    "This time we are going to use an open API for currency and digital coins pricing: https://docs.kraken.com/rest/#tag/Market-Data"
   ]
  },
  {
   "cell_type": "code",
   "execution_count": 2,
   "id": "c1fb79a3-4856-4721-988c-112813690a90",
   "metadata": {
    "tags": []
   },
   "outputs": [],
   "source": [
    "import os\n",
    "import json\n",
    "import requests\n",
    "from pydantic import BaseModel \n",
    "\n",
    "from langchain_openai import AzureChatOpenAI\n",
    "from langchain_core.tools import BaseTool, StructuredTool\n",
    "from langchain_community.agent_toolkits.openapi.toolkit import RequestsToolkit\n",
    "from langchain_community.utilities.requests import RequestsWrapper, TextRequestsWrapper\n",
    "\n",
    "from langgraph.prebuilt import create_react_agent\n",
    "\n",
    "from common.utils import num_tokens_from_string, reduce_openapi_spec\n",
    "from common.prompts import APISEARCH_PROMPT_TEXT\n",
    "\n",
    "from IPython.display import Markdown, HTML, display  \n",
    "\n",
    "from dotenv import load_dotenv\n",
    "load_dotenv(\"credentials.env\")\n",
    "\n",
    "def printmd(string):\n",
    "    display(Markdown(string.replace(\"$\",\"USD \")))\n"
   ]
  },
  {
   "cell_type": "code",
   "execution_count": 3,
   "id": "258a6e99-2d4f-4147-b8ee-c64c85296181",
   "metadata": {
    "tags": []
   },
   "outputs": [],
   "source": [
    "# Set the ENV variables that Langchain needs to connect to Azure OpenAI\n",
    "os.environ[\"OPENAI_API_VERSION\"] = os.environ[\"AZURE_OPENAI_API_VERSION\"]"
   ]
  },
  {
   "cell_type": "code",
   "execution_count": 4,
   "id": "9d3daf03-77e2-466e-a255-2f06bee3561b",
   "metadata": {
    "tags": []
   },
   "outputs": [],
   "source": [
    "COMPLETION_TOKENS = 2000\n",
    "\n",
    "# This notebook needs GPT-4-Turbo (context size of 128k tokens)\n",
    "llm = AzureChatOpenAI(deployment_name=os.environ[\"GPT4o_DEPLOYMENT_NAME\"], \n",
    "                      temperature=0.5, max_tokens=COMPLETION_TOKENS, \n",
    "                      streaming=True)"
   ]
  },
  {
   "cell_type": "markdown",
   "id": "9cc03401-a5a9-455b-bf17-07da2005e61f",
   "metadata": {},
   "source": [
    "## The Logic"
   ]
  },
  {
   "cell_type": "markdown",
   "id": "ebe42eda-3e74-4114-bd25-2473593cc1b4",
   "metadata": {},
   "source": [
    "By now, you must infer that the solution for an API Agent has to be something like: give the API specification as part of the system prompt to the LLM , then let a graph agent plan for the right steps to formulate the API calls.<br>\n",
    "\n",
    "Let's do that. But we must first understand the industry standards of Swagger/OpenAPI\n"
   ]
  },
  {
   "cell_type": "markdown",
   "id": "1e8e0b32-a6b5-4b1c-943d-e57b737213fa",
   "metadata": {},
   "source": [
    "## Introduction to OpenAPI (formerly Swagger)"
   ]
  },
  {
   "cell_type": "markdown",
   "id": "003327ac-2851-48ef-8a6b-2d8c2004bb2e",
   "metadata": {},
   "source": [
    "The OpenAPI Specification, previously known as the Swagger Specification, is a specification for a machine-readable interface definition language for describing, producing, consuming and visualizing web services. Previously part of the Swagger framework, it became a separate project in 2016, overseen by the OpenAPI Initiative, an open-source collaboration project of the Linux Foundation.\n",
    "\n",
    "OpenAPI Specification is an API description format for REST APIs. An OpenAPI file allows you to describe your entire API, including: Available endpoints (/users for example) and operations on each endpoint ( GET /users, POST /users), description, contact information, license, terms of use and other information."
   ]
  },
  {
   "cell_type": "markdown",
   "id": "a1902af5-f889-4bcf-85e0-1b601bd2ce47",
   "metadata": {},
   "source": [
    "### Let's get the OpenAPI (Swagger) spec from our desired API that we want to talk to\n",
    "You can also download it from the Kraken website: https://docs.kraken.com/rest/"
   ]
  },
  {
   "cell_type": "markdown",
   "id": "dd3cab16-e71d-4652-ab27-7b0704365454",
   "metadata": {},
   "source": [
    "Let's see how big is this API specification:"
   ]
  },
  {
   "cell_type": "code",
   "execution_count": 5,
   "id": "03e6ab7d-4493-466e-8771-21e75381b986",
   "metadata": {
    "tags": []
   },
   "outputs": [],
   "source": [
    "LOCAL_FILE_PATH = \"./data/openapi_kraken.json\""
   ]
  },
  {
   "cell_type": "code",
   "execution_count": 6,
   "id": "e4c2e7ca-a9ed-446f-b4db-b8d558f7e1d9",
   "metadata": {
    "tags": []
   },
   "outputs": [],
   "source": [
    "# Open and read the JSON file\n",
    "with open(LOCAL_FILE_PATH, 'r') as file:\n",
    "    spec = json.load(file)"
   ]
  },
  {
   "cell_type": "code",
   "execution_count": 7,
   "id": "94503afc-c398-458a-b369-610c5dbe682d",
   "metadata": {
    "tags": []
   },
   "outputs": [],
   "source": [
    "# You can check the function \"reduce_openapi_spec()\" in utils.py\n",
    "reduced_api_spec = reduce_openapi_spec(spec)"
   ]
  },
  {
   "cell_type": "code",
   "execution_count": 8,
   "id": "57d77e9b-6f3f-4ec4-bc01-baac18984937",
   "metadata": {
    "tags": []
   },
   "outputs": [
    {
     "name": "stdout",
     "output_type": "stream",
     "text": [
      "API spec size in tokens: 66629\n",
      "Reduced API spec size in tokens: 57398\n"
     ]
    }
   ],
   "source": [
    "api_tokens = num_tokens_from_string(str(spec))\n",
    "print(\"API spec size in tokens:\",api_tokens)\n",
    "api_tokens = num_tokens_from_string(str(reduced_api_spec))\n",
    "print(\"Reduced API spec size in tokens:\",api_tokens)"
   ]
  },
  {
   "cell_type": "markdown",
   "id": "d8b95356-587d-43ca-982f-500779078482",
   "metadata": {},
   "source": [
    "Sometimes it makes sense to reduce the size of the API Specs by using the `reduce_openapi_spec` function. It's optional."
   ]
  },
  {
   "cell_type": "markdown",
   "id": "cd8c3b3e-959e-4b19-b34d-66de3501b1b1",
   "metadata": {},
   "source": [
    "#### NOTE: As you can see, a large context LLM is needed. `GPT4` or newer models are necessary for this notebook to run succesfully."
   ]
  },
  {
   "cell_type": "markdown",
   "id": "9a945386-39eb-405d-9310-3b67c9af77bb",
   "metadata": {},
   "source": [
    "### Define Tools"
   ]
  },
  {
   "cell_type": "code",
   "execution_count": 9,
   "id": "ef8b7f43-86ac-4c51-84a5-395c1f2c6db6",
   "metadata": {
    "tags": []
   },
   "outputs": [],
   "source": [
    "# Most of APIs require Authorization tokens, so we construct the headers using a lightweight python request wrapper called RequestsWrapper\n",
    "access_token = \"ABCDEFG123456\" \n",
    "headers = {\"Authorization\": f\"Bearer {access_token}\"}\n",
    "requests_wrapper = RequestsWrapper(headers=headers)\n",
    "\n",
    "toolkit = RequestsToolkit(\n",
    "    requests_wrapper=RequestsWrapper(headers=headers),\n",
    "    allow_dangerous_requests=True,\n",
    ")"
   ]
  },
  {
   "cell_type": "code",
   "execution_count": 10,
   "id": "8475a4a3-48b3-476b-b900-49840e21e463",
   "metadata": {
    "tags": []
   },
   "outputs": [
    {
     "data": {
      "text/plain": [
       "[RequestsGetTool(requests_wrapper=TextRequestsWrapper(headers={'Authorization': 'Bearer ABCDEFG123456'}, aiosession=None, auth=None, response_content_type='text', verify=True), allow_dangerous_requests=True),\n",
       " RequestsPostTool(requests_wrapper=TextRequestsWrapper(headers={'Authorization': 'Bearer ABCDEFG123456'}, aiosession=None, auth=None, response_content_type='text', verify=True), allow_dangerous_requests=True),\n",
       " RequestsPatchTool(requests_wrapper=TextRequestsWrapper(headers={'Authorization': 'Bearer ABCDEFG123456'}, aiosession=None, auth=None, response_content_type='text', verify=True), allow_dangerous_requests=True),\n",
       " RequestsPutTool(requests_wrapper=TextRequestsWrapper(headers={'Authorization': 'Bearer ABCDEFG123456'}, aiosession=None, auth=None, response_content_type='text', verify=True), allow_dangerous_requests=True),\n",
       " RequestsDeleteTool(requests_wrapper=TextRequestsWrapper(headers={'Authorization': 'Bearer ABCDEFG123456'}, aiosession=None, auth=None, response_content_type='text', verify=True), allow_dangerous_requests=True)]"
      ]
     },
     "execution_count": 10,
     "metadata": {},
     "output_type": "execute_result"
    }
   ],
   "source": [
    "toolkit.get_tools()"
   ]
  },
  {
   "cell_type": "code",
   "execution_count": 11,
   "id": "2b536301-3835-4ce0-84e2-4012973b12d1",
   "metadata": {
    "tags": []
   },
   "outputs": [],
   "source": [
    "tools = toolkit.get_tools()"
   ]
  },
  {
   "cell_type": "markdown",
   "id": "b0f4d6a2-2678-4e19-b070-b0a8028bde72",
   "metadata": {},
   "source": [
    "### Define Prompt"
   ]
  },
  {
   "cell_type": "code",
   "execution_count": 12,
   "id": "38b3972b-beca-4068-85c0-a7cda0ded894",
   "metadata": {
    "tags": []
   },
   "outputs": [
    {
     "data": {
      "text/markdown": [
       "\n",
       "\n",
       "## Source of Information\n",
       "- You have access to an API to help answer user queries.\n",
       "- Here is documentation on the API: {api_spec}\n",
       "\n",
       "## On how to use the Tools\n",
       "- You are an agent designed to connect to RestFul APIs.\n",
       "- Given API documentation above, use the right tools to connect to the API.\n",
       "- **ALWAYS** before giving the Final Answer, try another method if available. Then reflect on the answers of the two methods you did and ask yourself if it answers correctly the original question. If you are not sure, try another method.\n",
       "- If you are sure of the correct answer, create a beautiful and thorough response using Markdown.\n",
       "- **DO NOT MAKE UP AN ANSWER OR USE Pre-Existing KNOWLEDGE, ONLY USE THE RESULTS OF THE CALCULATIONS YOU HAVE DONE**. \n",
       "- Only use the output of your code to answer the question. \n"
      ],
      "text/plain": [
       "<IPython.core.display.Markdown object>"
      ]
     },
     "metadata": {},
     "output_type": "display_data"
    }
   ],
   "source": [
    "printmd(APISEARCH_PROMPT_TEXT)"
   ]
  },
  {
   "cell_type": "markdown",
   "id": "82cc97fa-5184-4d43-9b36-a66c04f73a3b",
   "metadata": {
    "tags": []
   },
   "source": [
    "### Create Graph"
   ]
  },
  {
   "cell_type": "code",
   "execution_count": 13,
   "id": "97432e39-965f-4eb1-8dfa-55cdfef5e541",
   "metadata": {
    "tags": []
   },
   "outputs": [],
   "source": [
    "graph = create_react_agent(llm, tools, state_modifier=APISEARCH_PROMPT_TEXT.format(api_spec=reduced_api_spec))"
   ]
  },
  {
   "cell_type": "markdown",
   "id": "24fa45b2-dd42-485b-b77b-ca66fb223e4f",
   "metadata": {},
   "source": [
    "### Run the Graph"
   ]
  },
  {
   "cell_type": "code",
   "execution_count": 14,
   "id": "659d4b36-ca54-4505-aab8-8f6534448408",
   "metadata": {
    "tags": []
   },
   "outputs": [],
   "source": [
    "async def stream_graph_updates_async(graph, user_input: str):\n",
    "    inputs = {\"messages\": [(\"human\", user_input)]}\n",
    "\n",
    "    async for event in graph.astream_events(inputs, version=\"v2\"):\n",
    "        if (event[\"event\"] == \"on_chat_model_stream\"):\n",
    "            # Print the content of the chunk progressively\n",
    "            print(event[\"data\"][\"chunk\"].content, end=\"\", flush=True)\n",
    "        elif (event[\"event\"] == \"on_tool_start\"  ):\n",
    "            print(\"\\n--\")\n",
    "            print(f\"Calling tool: {event['name']} with inputs: {event['data'].get('input')}\")\n",
    "            print(\"--\")"
   ]
  },
  {
   "cell_type": "code",
   "execution_count": 15,
   "id": "d020b5de-7ebe-4fb9-9b71-f6c71956149d",
   "metadata": {
    "tags": []
   },
   "outputs": [],
   "source": [
    "QUESTION = \"\"\"\n",
    "Tell me the price of bitcoin against USD , also the latest OHLC values for Ethereum,\n",
    "also tell me the bid and ask for Euro.\n",
    "\"\"\""
   ]
  },
  {
   "cell_type": "code",
   "execution_count": 16,
   "id": "fabda1d0-7050-4871-b155-5be9e24a24ff",
   "metadata": {
    "tags": []
   },
   "outputs": [
    {
     "name": "stdout",
     "output_type": "stream",
     "text": [
      "\n",
      "--\n",
      "Calling tool: requests_get with inputs: {'url': 'https://api.kraken.com/0/public/Ticker?pair=XBTUSD'}\n",
      "--\n",
      "\n",
      "--\n",
      "Calling tool: requests_get with inputs: {'url': 'https://api.kraken.com/0/public/OHLC?pair=ETHUSD'}\n",
      "--\n",
      "\n",
      "--\n",
      "Calling tool: requests_get with inputs: {'url': 'https://api.kraken.com/0/public/Ticker?pair=EURUSD'}\n",
      "--\n",
      "Here is the requested information:\n",
      "\n",
      "### 1. **Bitcoin (BTC) against USD:**\n",
      "   - **Last Trade Price:** $87,661.40\n",
      "   - **Ask Price:** $87,669.20\n",
      "   - **Bid Price:** $87,669.10\n",
      "\n",
      "---\n",
      "\n",
      "### 2. **Latest OHLC (Open/High/Low/Close) Values for Ethereum (ETH) against USD:**\n",
      "   - **Open:** $2,189.42\n",
      "   - **High:** $2,189.81\n",
      "   - **Low:** $2,187.81\n",
      "   - **Close:** $2,188.15\n",
      "\n",
      "---\n",
      "\n",
      "### 3. **Euro (EUR) against USD:**\n",
      "   - **Ask Price:** $1.06090\n",
      "   - **Bid Price:** $1.06088\n",
      "\n",
      "Let me know if you need further details! 😊"
     ]
    }
   ],
   "source": [
    "await stream_graph_updates_async(graph, QUESTION)"
   ]
  },
  {
   "cell_type": "markdown",
   "id": "73027201-d6e2-4aa0-a480-934c53ae4eb8",
   "metadata": {},
   "source": [
    "**Great!!** we have now an API Agent, capable of reasoning until it can find the answer given an API documentation."
   ]
  },
  {
   "cell_type": "markdown",
   "id": "e9ba3e35-8021-4262-8494-d1aee3862f7e",
   "metadata": {},
   "source": [
    "## Simple APIs\n",
    "\n",
    "What happens if the API is quite basic, meaning it's just a simple endpoint without a Swagger/OpenAPI definition? Let’s consider the following example:\n",
    "\n",
    "[CountdownAPI](https://www.countdownapi.com/) is a streamlined version of the eBay API, available as a paid service. We can test it using their demo query, which does not require any Swagger or OpenAPI specification. In this scenario, our main task is to create a tool that retrieves the results. We then pass these results to an agent for analysis, providing answers to user queries, similar to our approach with the Bing Search agent.\n",
    "\n",
    "In the example below, there is no API specification, but the response from the API is rather lengthy."
   ]
  },
  {
   "cell_type": "code",
   "execution_count": 24,
   "id": "9782fafa-9453-46be-b9d7-b33088f61ac8",
   "metadata": {
    "tags": []
   },
   "outputs": [
    {
     "name": "stdout",
     "output_type": "stream",
     "text": [
      "Token count: 5492 \n",
      "\n",
      "{\"data\": {\"id\": \"116.203.4.0\", \"type\": \"ip_address\", \"links\": {\"self\": \"https://www.virustotal.com/api/v3/ip_addresses/116.203.4.0\"}, \"attributes\": {\"last_https_certificate\": {\"size\": 1059, \"public_key\": {\"algorithm\": \"EC\", \"ec\": {\"oid\": \"secp256r1\", \"pub\": \"3059301306072a8648ce3d020106082a8648ce3d03010703420004f0a67a8c8d13c3069be7c01392c20cebf38553f8b42ce2c0417990882af9558c66eb8d430161d5da5d3538f1ccb3354ebfbfcf4ab4d6ef948f8696eb97135bb0\"}}, \"thumbprint_sha256\": \"3556bfff78204b8b3053fabfe2afa22fbba9e95b86e7553d22eb1487d9f632be\", \"cert_signature\": {\"signature_algorithm\": \"sha256RSA\", \"signature\": \"66fb79fb4d348f931aa2e14ca87c14be456b085488827ea472a058941cd05612cc72dd61709c41fef8472b7357771c063eaa3626dfa367afd07639c384a46d90a1e8b67078df3fd02dfb7eebf95f76516162341d6dc3c05af73af9d85e60cea0452f79677192b9aa2bd7f77a2ccac57aa750109427891fb746cc857303a6dc37d87dcae41107d297cce2866d15c01e17aceae37f3d0c6d8dd7715302480b37dd24e46c3fdb3d1fd4967d0afbebb2e40573efe0587ef3d3179dad58c6945505e833dc2d348bcf9759f36896e3431902fdbf26daa7a5b5ddae3933eba7ea2b15b37ec50d57a65adc8a969b3cd28809361da2dff2d7182fc55e83c7c33bd9f86df5\"}, \"validity\": {\"not_after\": \"2023-09-18 10:14:41\", \"not_before\": \"2023-06-20 10:14:42\"}, \"version\": \"V3\", \"extensions\": {\"certificate_policies\": [\"2.23.140.1.2.1\"], \"extended_key_usage\": [\"serverAuth\", \"clientAuth\"], \"authority_key_identifier\": {\"keyid\": \"142eb317b75856cbae500940e61faf9d8b14c2c6\"}, \"subject_alternative_name\": [\"z28.maduss.site\"], \"ca_information_access\": {\"CA Issuers\": \"http://r3.i.lencr.org/\", \"OCSP\": \"http://r3.o.lencr.org\"}, \"subject_key_identifier\": \"0feff2a6e6b8fe61e51e25f702c7db77c5115ef0\", \"key_usage\": [\"digitalSignature\"], \"1.3.6.1.4.1.11129.2.4.2\": \"0481f100ef0076007a328c54d8b72db620ea38e0521ee98416703213854d3bd2\", \"CA\": false}, \"thumbprint\": \"d8dabc972daaf339bfaba6fc7c8fb7a5c87f739b\", \"serial_number\": \"31c8a0e3680cddc5571dac2bce7c8f38d54\", \"issuer\": {\"C\": \"US\", \"CN\": \"R3\", \"O\": \"Let's Encrypt\"}, \"subject\": {\"CN\": \"z28.maduss.site\"}}, \"last_ana ...\n"
     ]
    }
   ],
   "source": [
    "# set up the request parameters\n",
    "params = {\n",
    "  'x-apikey': 'ca89e780b9986e9d0cdb22ea621556f7b5bd86e0d4ad6ffc1f9bfcef0583c244'\n",
    "\n",
    "}\n",
    "headers = {\"accept\": \"application/json\",\n",
    "           'x-apikey': 'ca89e780b9986e9d0cdb22ea621556f7b5bd86e0d4ad6ffc1f9bfcef0583c244'}\n",
    "\n",
    "# make the http GET request to Countdown API\n",
    "api_result = requests.get('https://www.virustotal.com/api/v3/ip_addresses/116.203.4.0', headers=headers)\n",
    "\n",
    "num_tokens = num_tokens_from_string(str(api_result.json())) # this is a custom function we created in common/utils.py\n",
    "print(\"Token count:\",num_tokens,\"\\n\")  \n",
    "\n",
    "# print the first 2000 characters of JSON response from Countdown API\n",
    "print(json.dumps(api_result.json())[:2000], \"...\")"
   ]
  },
  {
   "cell_type": "markdown",
   "id": "57cf8aaa-9a16-48ad-9846-bbacec82d52f",
   "metadata": {},
   "source": [
    "So, the answer from this product query (the demo only works with 'memory cards' - you will need to sign up for their trial if you want to try any query with an API key), is about ~17k tokens. When combined with the prompt, we won't have any other option than to use GPT-4 models. "
   ]
  },
  {
   "cell_type": "markdown",
   "id": "a7280427-688a-45c4-bf98-d1d392cdfe9c",
   "metadata": {},
   "source": [
    "### Define a custom tool to call the API endpoint"
   ]
  },
  {
   "cell_type": "code",
   "execution_count": 42,
   "id": "67c51a32-13f5-4802-84cd-ce40b397cb1b",
   "metadata": {
    "tags": []
   },
   "outputs": [],
   "source": [
    "class MySimpleAPISearch(BaseTool):\n",
    "    \"\"\"Tool for simple API calls that doesn't require OpenAPI 3.0 specs\"\"\"\n",
    "    \n",
    "    name:str = \"apisearch\"\n",
    "    description:str = \"useful when the questions includes the term: apisearch.\\n\"\n",
    "\n",
    "    api_key: str\n",
    "    \n",
    "    def _run(self, query: str) -> str:\n",
    "        \n",
    "        params = {\n",
    "          'api_key': self.api_key,\n",
    "          'type': 'search',\n",
    "          'ebay_domain': 'ebay.com',\n",
    "          'search_term': query\n",
    "        }\n",
    "        headers = {\"accept\": \"application/json\",\n",
    "           'x-apikey': 'ca89e780b9986e9d0cdb22ea621556f7b5bd86e0d4ad6ffc1f9bfcef0583c244'}\n",
    "\n",
    "        # make the http GET request to Countdown API\n",
    "        api_result = requests.get('https://www.virustotal.com/api/v3/ip_addresses/116.203.4.0', headers=headers)\n",
    "        \n",
    "        try:\n",
    "            response = json.dumps(api_result.json())\n",
    "        except Exception as e:\n",
    "            response = e\n",
    "        \n",
    "        return response\n",
    "            \n",
    "    async def _arun(self, query: str) -> str:\n",
    "        \"\"\"Use the tool asynchronously.\"\"\"\n",
    "        raise NotImplementedError(\"This Tool does not support async\")"
   ]
  },
  {
   "cell_type": "code",
   "execution_count": 47,
   "id": "c0daa409-a196-4eae-aaac-b4545d0e3280",
   "metadata": {
    "tags": []
   },
   "outputs": [
    {
     "name": "stdout",
     "output_type": "stream",
     "text": [
      "api_key='demo'\n",
      "\n",
      "\n",
      "## Source of Information\n",
      "- You have access to an API to help answer user queries.\n",
      "- Here is documentation on the API: API provided by the tool\n",
      "\n",
      "## On how to use the Tools\n",
      "- You are an agent designed to connect to RestFul APIs.\n",
      "- Given API documentation above, use the right tools to connect to the API.\n",
      "- **ALWAYS** before giving the Final Answer, try another method if available. Then reflect on the answers of the two methods you did and ask yourself if it answers correctly the original question. If you are not sure, try another method.\n",
      "- If you are sure of the correct answer, create a beautiful and thorough response using Markdown.\n",
      "- **DO NOT MAKE UP AN ANSWER OR USE Pre-Existing KNOWLEDGE, ONLY USE THE RESULTS OF THE CALCULATIONS YOU HAVE DONE**. \n",
      "- Only use the output of your code to answer the question. \n",
      "\n"
     ]
    }
   ],
   "source": [
    "tools = [MySimpleAPISearch(api_key='demo')]\n",
    "print(MySimpleAPISearch(api_key='demo'))\n",
    "graph = create_react_agent(llm, tools, state_modifier=APISEARCH_PROMPT_TEXT.format(api_spec=\"API provided by the tool\"))\n",
    "print(APISEARCH_PROMPT_TEXT.format(api_spec=\"API provided by the tool\"))"
   ]
  },
  {
   "cell_type": "markdown",
   "id": "c6a0f773-7957-469a-a8bc-911a68ce0b98",
   "metadata": {},
   "source": [
    "This time let's use the .stream() method "
   ]
  },
  {
   "cell_type": "code",
   "execution_count": 37,
   "id": "64d77691-e29a-45b2-a045-da755d9c7d8b",
   "metadata": {
    "tags": []
   },
   "outputs": [],
   "source": [
    "QUESTION = 'Give me information relevant about the ip provided, what is the score? ISP? is it on black list? wich? At the end make and evaluation and provide a veredict if the ip is malicious or not'"
   ]
  },
  {
   "cell_type": "code",
   "execution_count": 38,
   "id": "71a1d824-7257-4a6b-8b0c-cd5176136ac7",
   "metadata": {
    "tags": []
   },
   "outputs": [],
   "source": [
    "def print_stream(stream):\n",
    "    for s in stream:\n",
    "        message = s[\"messages\"][-1]\n",
    "        if isinstance(message, tuple):\n",
    "            print(message)\n",
    "        else:\n",
    "            message.pretty_print()"
   ]
  },
  {
   "cell_type": "code",
   "execution_count": null,
   "id": "64fa79ee-9a50-4ddf-a87e-c0c28615ce4e",
   "metadata": {
    "tags": []
   },
   "outputs": [
    {
     "name": "stdout",
     "output_type": "stream",
     "text": [
      "================================\u001b[1m Human Message \u001b[0m=================================\n",
      "\n",
      "Give me information relevant about the ip provided, what is the score? ISP? is it on black list? wich? At the end make and evaluation and provide a veredict if the ip is malicious or not\n",
      "==================================\u001b[1m Ai Message \u001b[0m==================================\n",
      "Tool Calls:\n",
      "  apisearch (call_D2isShzwTeA923lYKAQeBDs1)\n",
      " Call ID: call_D2isShzwTeA923lYKAQeBDs1\n",
      "  Args:\n",
      "    query: IP information, score, ISP, blacklist status\n",
      "=================================\u001b[1m Tool Message \u001b[0m=================================\n",
      "Name: apisearch\n",
      "\n",
      "{\"data\": {\"id\": \"116.203.4.0\", \"type\": \"ip_address\", \"links\": {\"self\": \"https://www.virustotal.com/api/v3/ip_addresses/116.203.4.0\"}, \"attributes\": {\"jarm\": \"40d1db40d0000001dc43d1db1db43d2f70423af611c314ea6b67982756f7de\", \"network\": \"116.202.0.0/15\", \"last_analysis_results\": {\"Acronis\": {\"method\": \"blacklist\", \"engine_name\": \"Acronis\", \"category\": \"harmless\", \"result\": \"clean\"}, \"0xSI_f33d\": {\"method\": \"blacklist\", \"engine_name\": \"0xSI_f33d\", \"category\": \"undetected\", \"result\": \"unrated\"}, \"Abusix\": {\"method\": \"blacklist\", \"engine_name\": \"Abusix\", \"category\": \"harmless\", \"result\": \"clean\"}, \"ADMINUSLabs\": {\"method\": \"blacklist\", \"engine_name\": \"ADMINUSLabs\", \"category\": \"harmless\", \"result\": \"clean\"}, \"Axur\": {\"method\": \"blacklist\", \"engine_name\": \"Axur\", \"category\": \"undetected\", \"result\": \"unrated\"}, \"Criminal IP\": {\"method\": \"blacklist\", \"engine_name\": \"Criminal IP\", \"category\": \"harmless\", \"result\": \"clean\"}, \"AILabs (MONITORAPP)\": {\"method\": \"blacklist\", \"engine_name\": \"AILabs (MONITORAPP)\", \"category\": \"harmless\", \"result\": \"clean\"}, \"AlienVault\": {\"method\": \"blacklist\", \"engine_name\": \"AlienVault\", \"category\": \"harmless\", \"result\": \"clean\"}, \"alphaMountain.ai\": {\"method\": \"blacklist\", \"engine_name\": \"alphaMountain.ai\", \"category\": \"harmless\", \"result\": \"clean\"}, \"AlphaSOC\": {\"method\": \"blacklist\", \"engine_name\": \"AlphaSOC\", \"category\": \"suspicious\", \"result\": \"miner\"}, \"Antiy-AVL\": {\"method\": \"blacklist\", \"engine_name\": \"Antiy-AVL\", \"category\": \"harmless\", \"result\": \"clean\"}, \"ArcSight Threat Intelligence\": {\"method\": \"blacklist\", \"engine_name\": \"ArcSight Threat Intelligence\", \"category\": \"undetected\", \"result\": \"unrated\"}, \"AutoShun\": {\"method\": \"blacklist\", \"engine_name\": \"AutoShun\", \"category\": \"undetected\", \"result\": \"unrated\"}, \"benkow.cc\": {\"method\": \"blacklist\", \"engine_name\": \"benkow.cc\", \"category\": \"harmless\", \"result\": \"clean\"}, \"Bfore.Ai PreCrime\": {\"method\": \"blacklist\", \"engine_name\": \"Bfore.Ai PreCrime\", \"category\": \"undetected\", \"result\": \"unrated\"}, \"BitDefender\": {\"method\": \"blacklist\", \"engine_name\": \"BitDefender\", \"category\": \"harmless\", \"result\": \"clean\"}, \"Bkav\": {\"method\": \"blacklist\", \"engine_name\": \"Bkav\", \"category\": \"undetected\", \"result\": \"unrated\"}, \"Blueliv\": {\"method\": \"blacklist\", \"engine_name\": \"Blueliv\", \"category\": \"harmless\", \"result\": \"clean\"}, \"Certego\": {\"method\": \"blacklist\", \"engine_name\": \"Certego\", \"category\": \"harmless\", \"result\": \"clean\"}, \"Chong Lua Dao\": {\"method\": \"blacklist\", \"engine_name\": \"Chong Lua Dao\", \"category\": \"harmless\", \"result\": \"clean\"}, \"CINS Army\": {\"method\": \"blacklist\", \"engine_name\": \"CINS Army\", \"category\": \"harmless\", \"result\": \"clean\"}, \"Cluster25\": {\"method\": \"blacklist\", \"engine_name\": \"Cluster25\", \"category\": \"undetected\", \"result\": \"unrated\"}, \"CRDF\": {\"method\": \"blacklist\", \"engine_name\": \"CRDF\", \"category\": \"harmless\", \"result\": \"clean\"}, \"CSIS Security Group\": {\"method\": \"blacklist\", \"engine_name\": \"CSIS Security Group\", \"category\": \"undetected\", \"result\": \"unrated\"}, \"Snort IP sample list\": {\"method\": \"blacklist\", \"engine_name\": \"Snort IP sample list\", \"category\": \"harmless\", \"result\": \"clean\"}, \"CMC Threat Intelligence\": {\"method\": \"blacklist\", \"engine_name\": \"CMC Threat Intelligence\", \"category\": \"harmless\", \"result\": \"clean\"}, \"Cyan\": {\"method\": \"blacklist\", \"engine_name\": \"Cyan\", \"category\": \"undetected\", \"result\": \"unrated\"}, \"Cyble\": {\"method\": \"blacklist\", \"engine_name\": \"Cyble\", \"category\": \"harmless\", \"result\": \"clean\"}, \"CyRadar\": {\"method\": \"blacklist\", \"engine_name\": \"CyRadar\", \"category\": \"harmless\", \"result\": \"clean\"}, \"DNS8\": {\"method\": \"blacklist\", \"engine_name\": \"DNS8\", \"category\": \"harmless\", \"result\": \"clean\"}, \"Dr.Web\": {\"method\": \"blacklist\", \"engine_name\": \"Dr.Web\", \"category\": \"harmless\", \"result\": \"clean\"}, \"Ermes\": {\"method\": \"blacklist\", \"engine_name\": \"Ermes\", \"category\": \"undetected\", \"result\": \"unrated\"}, \"ESET\": {\"method\": \"blacklist\", \"engine_name\": \"ESET\", \"category\": \"harmless\", \"result\": \"clean\"}, \"ESTsecurity\": {\"method\": \"blacklist\", \"engine_name\": \"ESTsecurity\", \"category\": \"harmless\", \"result\": \"clean\"}, \"EmergingThreats\": {\"method\": \"blacklist\", \"engine_name\": \"EmergingThreats\", \"category\": \"harmless\", \"result\": \"clean\"}, \"Emsisoft\": {\"method\": \"blacklist\", \"engine_name\": \"Emsisoft\", \"category\": \"harmless\", \"result\": \"clean\"}, \"Forcepoint ThreatSeeker\": {\"method\": \"blacklist\", \"engine_name\": \"Forcepoint ThreatSeeker\", \"category\": \"undetected\", \"result\": \"unrated\"}, \"Fortinet\": {\"method\": \"blacklist\", \"engine_name\": \"Fortinet\", \"category\": \"harmless\", \"result\": \"clean\"}, \"G-Data\": {\"method\": \"blacklist\", \"engine_name\": \"G-Data\", \"category\": \"harmless\", \"result\": \"clean\"}, \"GCP Abuse Intelligence\": {\"method\": \"blacklist\", \"engine_name\": \"GCP Abuse Intelligence\", \"category\": \"undetected\", \"result\": \"unrated\"}, \"Google Safebrowsing\": {\"method\": \"blacklist\", \"engine_name\": \"Google Safebrowsing\", \"category\": \"harmless\", \"result\": \"clean\"}, \"GreenSnow\": {\"method\": \"blacklist\", \"engine_name\": \"GreenSnow\", \"category\": \"harmless\", \"result\": \"clean\"}, \"Gridinsoft\": {\"method\": \"blacklist\", \"engine_name\": \"Gridinsoft\", \"category\": \"undetected\", \"result\": \"unrated\"}, \"Heimdal Security\": {\"method\": \"blacklist\", \"engine_name\": \"Heimdal Security\", \"category\": \"harmless\", \"result\": \"clean\"}, \"Hunt.io Intelligence\": {\"method\": \"blacklist\", \"engine_name\": \"Hunt.io Intelligence\", \"category\": \"undetected\", \"result\": \"unrated\"}, \"IPsum\": {\"method\": \"blacklist\", \"engine_name\": \"IPsum\", \"category\": \"harmless\", \"result\": \"clean\"}, \"Juniper Networks\": {\"method\": \"blacklist\", \"engine_name\": \"Juniper Networks\", \"category\": \"harmless\", \"result\": \"clean\"}, \"Kaspersky\": {\"method\": \"blacklist\", \"engine_name\": \"Kaspersky\", \"category\": \"undetected\", \"result\": \"unrated\"}, \"Lionic\": {\"method\": \"blacklist\", \"engine_name\": \"Lionic\", \"category\": \"harmless\", \"result\": \"clean\"}, \"Lumu\": {\"method\": \"blacklist\", \"engine_name\": \"Lumu\", \"category\": \"undetected\", \"result\": \"unrated\"}, \"MalwarePatrol\": {\"method\": \"blacklist\", \"engine_name\": \"MalwarePatrol\", \"category\": \"harmless\", \"result\": \"clean\"}, \"MalwareURL\": {\"method\": \"blacklist\", \"engine_name\": \"MalwareURL\", \"category\": \"undetected\", \"result\": \"unrated\"}, \"Malwared\": {\"method\": \"blacklist\", \"engine_name\": \"Malwared\", \"category\": \"harmless\", \"result\": \"clean\"}, \"Netcraft\": {\"method\": \"blacklist\", \"engine_name\": \"Netcraft\", \"category\": \"undetected\", \"result\": \"unrated\"}, \"OpenPhish\": {\"method\": \"blacklist\", \"engine_name\": \"OpenPhish\", \"category\": \"harmless\", \"result\": \"clean\"}, \"Phishing Database\": {\"method\": \"blacklist\", \"engine_name\": \"Phishing Database\", \"category\": \"harmless\", \"result\": \"clean\"}, \"PhishFort\": {\"method\": \"blacklist\", \"engine_name\": \"PhishFort\", \"category\": \"undetected\", \"result\": \"unrated\"}, \"PhishLabs\": {\"method\": \"blacklist\", \"engine_name\": \"PhishLabs\", \"category\": \"undetected\", \"result\": \"unrated\"}, \"Phishtank\": {\"method\": \"blacklist\", \"engine_name\": \"Phishtank\", \"category\": \"harmless\", \"result\": \"clean\"}, \"PREBYTES\": {\"method\": \"blacklist\", \"engine_name\": \"PREBYTES\", \"category\": \"harmless\", \"result\": \"clean\"}, \"PrecisionSec\": {\"method\": \"blacklist\", \"engine_name\": \"PrecisionSec\", \"category\": \"undetected\", \"result\": \"unrated\"}, \"Quick Heal\": {\"method\": \"blacklist\", \"engine_name\": \"Quick Heal\", \"category\": \"harmless\", \"result\": \"clean\"}, \"Quttera\": {\"method\": \"blacklist\", \"engine_name\": \"Quttera\", \"category\": \"harmless\", \"result\": \"clean\"}, \"SafeToOpen\": {\"method\": \"blacklist\", \"engine_name\": \"SafeToOpen\", \"category\": \"undetected\", \"result\": \"unrated\"}, \"Sansec eComscan\": {\"method\": \"blacklist\", \"engine_name\": \"Sansec eComscan\", \"category\": \"undetected\", \"result\": \"unrated\"}, \"Scantitan\": {\"method\": \"blacklist\", \"engine_name\": \"Scantitan\", \"category\": \"harmless\", \"result\": \"clean\"}, \"SCUMWARE.org\": {\"method\": \"blacklist\", \"engine_name\": \"SCUMWARE.org\", \"category\": \"harmless\", \"result\": \"clean\"}, \"Seclookup\": {\"method\": \"blacklist\", \"engine_name\": \"Seclookup\", \"category\": \"harmless\", \"result\": \"clean\"}, \"SecureBrain\": {\"method\": \"blacklist\", \"engine_name\": \"SecureBrain\", \"category\": \"undetected\", \"result\": \"unrated\"}, \"Segasec\": {\"method\": \"blacklist\", \"engine_name\": \"Segasec\", \"category\": \"undetected\", \"result\": \"unrated\"}, \"SOCRadar\": {\"method\": \"blacklist\", \"engine_name\": \"SOCRadar\", \"category\": \"malicious\", \"result\": \"malicious\"}, \"Sophos\": {\"method\": \"blacklist\", \"engine_name\": \"Sophos\", \"category\": \"harmless\", \"result\": \"clean\"}, \"Spam404\": {\"method\": \"blacklist\", \"engine_name\": \"Spam404\", \"category\": \"harmless\", \"result\": \"clean\"}, \"StopForumSpam\": {\"method\": \"blacklist\", \"engine_name\": \"StopForumSpam\", \"category\": \"harmless\", \"result\": \"clean\"}, \"Sucuri SiteCheck\": {\"method\": \"blacklist\", \"engine_name\": \"Sucuri SiteCheck\", \"category\": \"harmless\", \"result\": \"clean\"}, \"ThreatHive\": {\"method\": \"blacklist\", \"engine_name\": \"ThreatHive\", \"category\": \"harmless\", \"result\": \"clean\"}, \"Threatsourcing\": {\"method\": \"blacklist\", \"engine_name\": \"Threatsourcing\", \"category\": \"harmless\", \"result\": \"clean\"}, \"Trustwave\": {\"method\": \"blacklist\", \"engine_name\": \"Trustwave\", \"category\": \"harmless\", \"result\": \"clean\"}, \"Underworld\": {\"method\": \"blacklist\", \"engine_name\": \"Underworld\", \"category\": \"undetected\", \"result\": \"unrated\"}, \"URLhaus\": {\"method\": \"blacklist\", \"engine_name\": \"URLhaus\", \"category\": \"harmless\", \"result\": \"clean\"}, \"URLQuery\": {\"method\": \"blacklist\", \"engine_name\": \"URLQuery\", \"category\": \"undetected\", \"result\": \"unrated\"}, \"Viettel Threat Intelligence\": {\"method\": \"blacklist\", \"engine_name\": \"Viettel Threat Intelligence\", \"category\": \"harmless\", \"result\": \"clean\"}, \"VIPRE\": {\"method\": \"blacklist\", \"engine_name\": \"VIPRE\", \"category\": \"undetected\", \"result\": \"unrated\"}, \"VX Vault\": {\"method\": \"blacklist\", \"engine_name\": \"VX Vault\", \"category\": \"harmless\", \"result\": \"clean\"}, \"ViriBack\": {\"method\": \"blacklist\", \"engine_name\": \"ViriBack\", \"category\": \"harmless\", \"result\": \"clean\"}, \"Webroot\": {\"method\": \"blacklist\", \"engine_name\": \"Webroot\", \"category\": \"harmless\", \"result\": \"clean\"}, \"Yandex Safebrowsing\": {\"method\": \"blacklist\", \"engine_name\": \"Yandex Safebrowsing\", \"category\": \"harmless\", \"result\": \"clean\"}, \"ZeroCERT\": {\"method\": \"blacklist\", \"engine_name\": \"ZeroCERT\", \"category\": \"harmless\", \"result\": \"clean\"}, \"desenmascara.me\": {\"method\": \"blacklist\", \"engine_name\": \"desenmascara.me\", \"category\": \"harmless\", \"result\": \"clean\"}, \"malwares.com URL checker\": {\"method\": \"blacklist\", \"engine_name\": \"malwares.com URL checker\", \"category\": \"harmless\", \"result\": \"clean\"}, \"securolytics\": {\"method\": \"blacklist\", \"engine_name\": \"securolytics\", \"category\": \"harmless\", \"result\": \"clean\"}, \"Xcitium Verdict Cloud\": {\"method\": \"blacklist\", \"engine_name\": \"Xcitium Verdict Cloud\", \"category\": \"undetected\", \"result\": \"unrated\"}, \"zvelo\": {\"method\": \"blacklist\", \"engine_name\": \"zvelo\", \"category\": \"undetected\", \"result\": \"unrated\"}, \"ZeroFox\": {\"method\": \"blacklist\", \"engine_name\": \"ZeroFox\", \"category\": \"undetected\", \"result\": \"unrated\"}}, \"as_owner\": \"Hetzner Online GmbH\", \"last_https_certificate\": {\"size\": 1059, \"public_key\": {\"algorithm\": \"EC\", \"ec\": {\"oid\": \"secp256r1\", \"pub\": \"3059301306072a8648ce3d020106082a8648ce3d03010703420004f0a67a8c8d13c3069be7c01392c20cebf38553f8b42ce2c0417990882af9558c66eb8d430161d5da5d3538f1ccb3354ebfbfcf4ab4d6ef948f8696eb97135bb0\"}}, \"thumbprint_sha256\": \"3556bfff78204b8b3053fabfe2afa22fbba9e95b86e7553d22eb1487d9f632be\", \"cert_signature\": {\"signature_algorithm\": \"sha256RSA\", \"signature\": \"66fb79fb4d348f931aa2e14ca87c14be456b085488827ea472a058941cd05612cc72dd61709c41fef8472b7357771c063eaa3626dfa367afd07639c384a46d90a1e8b67078df3fd02dfb7eebf95f76516162341d6dc3c05af73af9d85e60cea0452f79677192b9aa2bd7f77a2ccac57aa750109427891fb746cc857303a6dc37d87dcae41107d297cce2866d15c01e17aceae37f3d0c6d8dd7715302480b37dd24e46c3fdb3d1fd4967d0afbebb2e40573efe0587ef3d3179dad58c6945505e833dc2d348bcf9759f36896e3431902fdbf26daa7a5b5ddae3933eba7ea2b15b37ec50d57a65adc8a969b3cd28809361da2dff2d7182fc55e83c7c33bd9f86df5\"}, \"validity\": {\"not_after\": \"2023-09-18 10:14:41\", \"not_before\": \"2023-06-20 10:14:42\"}, \"version\": \"V3\", \"extensions\": {\"certificate_policies\": [\"2.23.140.1.2.1\"], \"extended_key_usage\": [\"serverAuth\", \"clientAuth\"], \"authority_key_identifier\": {\"keyid\": \"142eb317b75856cbae500940e61faf9d8b14c2c6\"}, \"subject_alternative_name\": [\"z28.maduss.site\"], \"ca_information_access\": {\"CA Issuers\": \"http://r3.i.lencr.org/\", \"OCSP\": \"http://r3.o.lencr.org\"}, \"subject_key_identifier\": \"0feff2a6e6b8fe61e51e25f702c7db77c5115ef0\", \"key_usage\": [\"digitalSignature\"], \"1.3.6.1.4.1.11129.2.4.2\": \"0481f100ef0076007a328c54d8b72db620ea38e0521ee98416703213854d3bd2\", \"CA\": false}, \"thumbprint\": \"d8dabc972daaf339bfaba6fc7c8fb7a5c87f739b\", \"serial_number\": \"31c8a0e3680cddc5571dac2bce7c8f38d54\", \"issuer\": {\"C\": \"US\", \"CN\": \"R3\", \"O\": \"Let's Encrypt\"}, \"subject\": {\"CN\": \"z28.maduss.site\"}}, \"regional_internet_registry\": \"RIPE NCC\", \"last_https_certificate_date\": 1689758649, \"last_analysis_stats\": {\"malicious\": 1, \"suspicious\": 1, \"undetected\": 31, \"harmless\": 61, \"timeout\": 0}, \"last_modification_date\": 1739284136, \"country\": \"DE\", \"total_votes\": {\"harmless\": 0, \"malicious\": 0}, \"tags\": [], \"continent\": \"EU\", \"reputation\": 0, \"asn\": 24940, \"last_analysis_date\": 1737302328, \"whois_date\": 1737301181, \"whois\": \"inetnum: 116.203.0.0 - 116.203.15.255\\nnetname: CLOUD-NBG1\\ncountry: DE\\nstatus: ASSIGNED PA\\norg: ORG-HOA1-RIPE\\nadmin-c: HOAC1-RIPE\\ntech-c: HOAC1-RIPE\\nmnt-by: HOS-GUN\\nremarks: INFRA-AW\\ncreated: 2023-12-12T11:56:27Z\\nlast-modified: 2023-12-12T11:56:27Z\\nsource: RIPE\\norganisation: ORG-HOA1-RIPE\\norg-name: Hetzner Online GmbH\\ncountry: DE\\norg-type: LIR\\naddress: Industriestrasse 25\\naddress: D-91710\\naddress: Gunzenhausen\\naddress: GERMANY\\nphone: +49 9831 5050\\nfax-no: +49 9831 5053\\nadmin-c: MF1400-RIPE\\nadmin-c: GM834-RIPE\\nadmin-c: HOAC1-RIPE\\nadmin-c: MH375-RIPE\\nadmin-c: SK2374-RIPE\\nadmin-c: SK8441-RIPE\\nabuse-c: HOAC1-RIPE\\nmnt-ref: RIPE-NCC-HM-MNT\\nmnt-ref: HOS-GUN\\nmnt-by: RIPE-NCC-HM-MNT\\nmnt-by: HOS-GUN\\ncreated: 2004-04-17T11:07:58Z\\nlast-modified: 2022-11-22T18:32:44Z\\nsource: RIPE # Filtered\\nrole: Hetzner Online GmbH - Contact Role\\naddress: Hetzner Online GmbH\\naddress: Industriestrasse 25\\naddress: D-91710 Gunzenhausen\\naddress: Germany\\nphone: +49 9831 505-0\\nfax-no: +49 9831 505-3\\nabuse-mailbox: abuse@hetzner.com\\nremarks: *************************************************\\nremarks: * For spam/abuse/security issues please contact *\\nremarks: * abuse@hetzner.com, or fill out the form at *\\nremarks: * abuse.hetzner.com, thank you. *\\nremarks: *************************************************\\nremarks:\\nremarks: *************************************************\\nremarks: * Any questions on Peering please send to *\\nremarks: * peering@hetzner.com *\\nremarks: *************************************************\\norg: ORG-HOA1-RIPE\\nadmin-c: MH375-RIPE\\ntech-c: GM834-RIPE\\ntech-c: SK2374-RIPE\\ntech-c: MF1400-RIPE\\ntech-c: SK8441-RIPE\\ntech-c: DD15478-RIPE\\nnic-hdl: HOAC1-RIPE\\nmnt-by: HOS-GUN\\ncreated: 2004-08-12T09:40:20Z\\nlast-modified: 2022-11-22T18:33:55Z\\nsource: RIPE # Filtered\\nroute: 116.203.0.0/16\\ndescr: HETZNER-DC\\norigin: AS24940\\norg: ORG-HOA1-RIPE\\nmnt-by: HOS-GUN\\ncreated: 2018-11-06T10:26:38Z\\nlast-modified: 2018-11-06T10:26:38Z\\nsource: RIPE\\norganisation: ORG-HOA1-RIPE\\norg-name: Hetzner Online GmbH\\ncountry: DE\\norg-type: LIR\\naddress: Industriestrasse 25\\naddress: D-91710\\naddress: Gunzenhausen\\naddress: GERMANY\\nphone: +49 9831 5050\\nfax-no: +49 9831 5053\\nadmin-c: MF1400-RIPE\\nadmin-c: GM834-RIPE\\nadmin-c: HOAC1-RIPE\\nadmin-c: MH375-RIPE\\nadmin-c: SK2374-RIPE\\nadmin-c: SK8441-RIPE\\nabuse-c: HOAC1-RIPE\\nmnt-ref: RIPE-NCC-HM-MNT\\nmnt-ref: HOS-GUN\\nmnt-by: RIPE-NCC-HM-MNT\\nmnt-by: HOS-GUN\\ncreated: 2004-04-17T11:07:58Z\\nlast-modified: 2022-11-22T18:32:44Z\\nsource: RIPE # Filtered\\n\"}}}\n",
      "==================================\u001b[1m Ai Message \u001b[0m==================================\n",
      "\n",
      "### Information about the IP Address: 116.203.4.0\n",
      "\n",
      "#### General Information:\n",
      "- **Country**: Germany (DE)\n",
      "- **Continent**: Europe (EU)\n",
      "- **ISP/Owner**: Hetzner Online GmbH\n",
      "- **ASN**: 24940\n",
      "- **Network Range**: 116.202.0.0/15\n",
      "- **Regional Internet Registry**: RIPE NCC\n",
      "- **Reputation Score**: 0 (Neutral)\n",
      "\n",
      "#### Blacklist and Analysis Results:\n",
      "The IP was analyzed by multiple engines for malicious activity. Below is a summary of the findings:\n",
      "\n",
      "- **Malicious Engines**: 1 (SOCRadar marked it as malicious)\n",
      "- **Suspicious Engines**: 1 (AlphaSOC marked it as suspicious, with a result of \"miner\")\n",
      "- **Clean/Harmless Engines**: 61\n",
      "- **Undetected Engines**: 31\n",
      "\n",
      "##### Blacklist Details:\n",
      "- **SOCRadar**: Marked as \"malicious.\"\n",
      "- **AlphaSOC**: Marked as \"suspicious\" with the label \"miner.\"\n",
      "- **Other Engines**: All others, including prominent ones like Google Safebrowsing, BitDefender, Kaspersky, and Fortinet, marked the IP as clean or harmless.\n",
      "\n",
      "#### Additional Information:\n",
      "- **Last Analysis Date**: Recent\n",
      "- **Certificate Information**:\n",
      "  - Issued by Let's Encrypt.\n",
      "  - Associated domain: `z28.maduss.site`\n",
      "  - Validity: Expired on September 18, 2023.\n",
      "- **Whois Information**:\n",
      "  - **Organization**: Hetzner Online GmbH\n",
      "  - **Address**: Industriestrasse 25, D-91710 Gunzenhausen, Germany\n",
      "  - **Abuse Contact**: abuse@hetzner.com\n",
      "\n",
      "---\n",
      "\n",
      "### Evaluation and Verdict:\n",
      "#### Evaluation:\n",
      "- The IP address is primarily associated with Hetzner Online GmbH, a reputable hosting provider.\n",
      "- Only one engine flagged it as \"malicious\" (SOCRadar), and one as \"suspicious\" (AlphaSOC). However, the majority (61 engines) marked it as clean or harmless.\n",
      "- There is no overwhelming evidence of malicious activity, and the reputation score is neutral (0).\n",
      "- The certificate associated with the IP has expired, but this alone does not indicate malicious intent.\n",
      "\n",
      "#### Verdict:\n",
      "Based on the analysis, the IP **116.203.4.0** is **not conclusively malicious**. The findings suggest it is likely safe, but caution should be exercised due to the isolated reports of suspicious and malicious activity. Further investigation may be warranted if this IP is critical to your operations or security.\n"
     ]
    }
   ],
   "source": [
    "inputs = {\"messages\": [(\"user\", QUESTION)]}\n",
    "\n",
    "print_stream(graph.stream(inputs, stream_mode=\"values\"))"
   ]
  },
  {
   "cell_type": "markdown",
   "id": "56cbc405-26e2-471e-9626-2a0df07f5ddc",
   "metadata": {},
   "source": [
    "# Summary"
   ]
  },
  {
   "cell_type": "markdown",
   "id": "7381ea5f-7269-4e1f-8b0c-1e2c04bd84c0",
   "metadata": {},
   "source": [
    "In this notebook, we learned about how to create very smart API agents for simple or complex APIs that use Swagger or OpenAPI specifications.\n",
    "We see, again, that the key to success is to use: Agents with Expert tools + GPT-4 + good prompts.\n",
    "\n",
    "As homework, try to create a shopping assistant for Etsy e-commerce site using the following API spec: (you will need to register for free and create an API-Key)\n",
    "\n",
    "- https://developers.etsy.com/documentation/\n",
    "- https://www.etsy.com/openapi/generated/oas/3.0.0.json"
   ]
  },
  {
   "cell_type": "markdown",
   "id": "02073623-91b4-40d6-8eaf-cb6d9c6a7a9a",
   "metadata": {},
   "source": [
    "# NEXT\n",
    "\n",
    "The Next Notebook will guide you on how to add vision and audio to our engine."
   ]
  },
  {
   "cell_type": "code",
   "execution_count": null,
   "id": "32a33c2f-9487-4996-9da8-f57f0f1f314c",
   "metadata": {},
   "outputs": [],
   "source": []
  }
 ],
 "metadata": {
  "kernelspec": {
   "display_name": "Python 3",
   "language": "python",
   "name": "python3"
  },
  "language_info": {
   "codemirror_mode": {
    "name": "ipython",
    "version": 3
   },
   "file_extension": ".py",
   "mimetype": "text/x-python",
   "name": "python",
   "nbconvert_exporter": "python",
   "pygments_lexer": "ipython3",
   "version": "3.12.5"
  }
 },
 "nbformat": 4,
 "nbformat_minor": 5
}
